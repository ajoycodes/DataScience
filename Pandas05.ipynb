{
  "nbformat": 4,
  "nbformat_minor": 0,
  "metadata": {
    "colab": {
      "provenance": []
    },
    "kernelspec": {
      "name": "python3",
      "display_name": "Python 3"
    },
    "language_info": {
      "name": "python"
    }
  },
  "cells": [
    {
      "cell_type": "code",
      "execution_count": 1,
      "metadata": {
        "id": "xXZRCg-RrTLw"
      },
      "outputs": [],
      "source": [
        "import pandas as pd\n",
        "\n",
        "# Creating a sample DataFrame with some categorical data\n",
        "data = {\n",
        "    'Product': ['Phone', 'Laptop', 'Headphones', 'Tablet', 'Phone', 'Laptop', 'Headphones', 'Tablet', 'Phone', 'Tablet'],\n",
        "    'Category': ['Electronics', 'Electronics', 'Accessories', 'Electronics', 'Electronics', 'Electronics', 'Accessories', 'Electronics', 'Electronics', 'Electronics'],\n",
        "    'Sales': [300, 700, 100, 400, 350, 750, 120, 420, 360, 430],\n",
        "    'Cost': [200, 500, 70, 250, 220, 520, 90, 260, 230, 270],\n",
        "    'Profit': [100, 200, 30, 150, 130, 230, 30, 160, 130, 160]\n",
        "}\n",
        "\n",
        "# Creating DataFrame\n",
        "sales = pd.DataFrame(data)\n"
      ]
    },
    {
      "cell_type": "code",
      "source": [
        "sales['Product'] = sales['Product'].astype('category')\n",
        "print(\"Step 1: Convert to Categorical\")\n",
        "print(sales.dtypes)"
      ],
      "metadata": {
        "colab": {
          "base_uri": "https://localhost:8080/"
        },
        "id": "zME47lPWroCH",
        "outputId": "2cb51670-b9df-4dd6-c9c8-20b6aef40019"
      },
      "execution_count": 13,
      "outputs": [
        {
          "output_type": "stream",
          "name": "stdout",
          "text": [
            "Step 1: Convert to Categorical\n",
            "Product     category\n",
            "Category    category\n",
            "Sales          int64\n",
            "Cost           int64\n",
            "Profit         int64\n",
            "dtype: object\n"
          ]
        }
      ]
    },
    {
      "cell_type": "code",
      "source": [
        "# Step 2: View the unique categories in the 'Category' column\n",
        "print(\"\\nStep 2: View Categories\")\n",
        "print(sales['Product'].cat.categories)"
      ],
      "metadata": {
        "colab": {
          "base_uri": "https://localhost:8080/"
        },
        "id": "nAGbLHPRrvPu",
        "outputId": "f8703eaa-b75c-49a3-dd26-ba3744744ea8"
      },
      "execution_count": 14,
      "outputs": [
        {
          "output_type": "stream",
          "name": "stdout",
          "text": [
            "\n",
            "Step 2: View Categories\n",
            "Index(['Headphones', 'Laptop', 'Phone', 'Tablet'], dtype='object')\n"
          ]
        }
      ]
    },
    {
      "cell_type": "code",
      "source": [
        "# Step 3: Get the category codes (numerical representation of categories)\n",
        "sales['Category_Code'] = sales['Product'].cat.codes\n",
        "print(\"\\nStep 3: Product Codes\")\n",
        "print(sales[['Product', 'Category_Code']])"
      ],
      "metadata": {
        "colab": {
          "base_uri": "https://localhost:8080/"
        },
        "id": "Qln0VGB2sYEn",
        "outputId": "13c5c386-ab33-4768-af4b-a9205cf2b865"
      },
      "execution_count": 16,
      "outputs": [
        {
          "output_type": "stream",
          "name": "stdout",
          "text": [
            "\n",
            "Step 3: Product Codes\n",
            "      Product  Category_Code\n",
            "0       Phone              2\n",
            "1      Laptop              1\n",
            "2  Headphones              0\n",
            "3      Tablet              3\n",
            "4       Phone              2\n",
            "5      Laptop              1\n",
            "6  Headphones              0\n",
            "7      Tablet              3\n",
            "8       Phone              2\n",
            "9      Tablet              3\n"
          ]
        }
      ]
    },
    {
      "cell_type": "code",
      "source": [
        "# Step 4: Count occurrences of each category\n",
        "print(\"\\nStep 4: Count Category Occurrences\")\n",
        "print(sales['Product'].value_counts())"
      ],
      "metadata": {
        "colab": {
          "base_uri": "https://localhost:8080/"
        },
        "id": "0jNT7YHrsnFc",
        "outputId": "58a17be8-25a7-4a37-c658-78f24741eef7"
      },
      "execution_count": 17,
      "outputs": [
        {
          "output_type": "stream",
          "name": "stdout",
          "text": [
            "\n",
            "Step 4: Count Category Occurrences\n",
            "Product\n",
            "Tablet        3\n",
            "Phone         3\n",
            "Laptop        2\n",
            "Headphones    2\n",
            "Name: count, dtype: int64\n"
          ]
        }
      ]
    },
    {
      "cell_type": "code",
      "source": [
        "# Step 5: Rename categories (if necessary)\n",
        "sales['Product'] = sales['Product'].cat.rename_categories({\n",
        "    'Headphones': 'Airpods'\n",
        "})\n",
        "print(\"\\nStep 5: Rename Categories\")\n",
        "print(sales['Product'].head())"
      ],
      "metadata": {
        "colab": {
          "base_uri": "https://localhost:8080/"
        },
        "id": "LNbcIHy1sr9L",
        "outputId": "ea5ed24d-6d88-4efd-fcf4-5d3fe3f29e04"
      },
      "execution_count": 20,
      "outputs": [
        {
          "output_type": "stream",
          "name": "stdout",
          "text": [
            "\n",
            "Step 5: Rename Categories\n",
            "0      Phone\n",
            "1     Laptop\n",
            "2    Airpods\n",
            "3     Tablet\n",
            "4      Phone\n",
            "Name: Product, dtype: category\n",
            "Categories (4, object): ['Airpods', 'Laptop', 'Phone', 'Tablet']\n"
          ]
        }
      ]
    },
    {
      "cell_type": "code",
      "source": [
        "# Step 6: Add new categories to the existing ones\n",
        "sales['Product'] = sales['Product'].cat.add_categories(['Gift Cards'])\n",
        "print(\"\\nStep 6: Add New Categories\")\n",
        "print(sales['Product'].cat.categories)"
      ],
      "metadata": {
        "colab": {
          "base_uri": "https://localhost:8080/"
        },
        "id": "6rprVGaJsr-W",
        "outputId": "f9c8bce7-66e4-4450-dcf7-61ab58ac948f"
      },
      "execution_count": 29,
      "outputs": [
        {
          "output_type": "stream",
          "name": "stdout",
          "text": [
            "\n",
            "Step 6: Add New Categories\n",
            "Index(['Airpods', 'Laptop', 'Phone', 'Tablet', 'Gift Cards'], dtype='object')\n"
          ]
        }
      ]
    },
    {
      "cell_type": "code",
      "source": [
        "# Step 7: Remove unused categories\n",
        "sales['Product'] = sales['Product'].cat.remove_categories(['Gift Cards'])\n",
        "print(\"\\nStep 7: Remove Unused Categories\")\n",
        "print(sales['Product'].cat.categories)"
      ],
      "metadata": {
        "colab": {
          "base_uri": "https://localhost:8080/"
        },
        "id": "So_mORRZtDQL",
        "outputId": "26249045-7d21-4e44-fcbf-171880d34d5a"
      },
      "execution_count": 30,
      "outputs": [
        {
          "output_type": "stream",
          "name": "stdout",
          "text": [
            "\n",
            "Step 7: Remove Unused Categories\n",
            "Index(['Airpods', 'Laptop', 'Phone', 'Tablet'], dtype='object')\n"
          ]
        }
      ]
    },
    {
      "cell_type": "code",
      "source": [
        "''' Step 8: Set custom order for categories\n",
        "custom_order = ['Airpods', 'Laptop']\n",
        "sales['Product'] = sales['Product'].cat.set_categories(custom_order, ordered=True)\n",
        "print(\"\\nStep 8: Set Custom Order for Categories\")\n",
        "print(sales['Product'].head())'''"
      ],
      "metadata": {
        "colab": {
          "base_uri": "https://localhost:8080/",
          "height": 69
        },
        "id": "GZud1ntqtW80",
        "outputId": "7e233835-c1b7-40f2-f534-2b18848531a7"
      },
      "execution_count": 41,
      "outputs": [
        {
          "output_type": "execute_result",
          "data": {
            "text/plain": [
              "' Step 8: Set custom order for categories\\ncustom_order = [\\'Airpods\\', \\'Laptop\\']\\nsales[\\'Product\\'] = sales[\\'Product\\'].cat.set_categories(custom_order, ordered=True)\\nprint(\"\\nStep 8: Set Custom Order for Categories\")\\nprint(sales[\\'Product\\'].head())'"
            ],
            "application/vnd.google.colaboratory.intrinsic+json": {
              "type": "string"
            }
          },
          "metadata": {},
          "execution_count": 41
        }
      ]
    },
    {
      "cell_type": "code",
      "source": [
        "# Grouping by the 'Category' column and calculating the total sales for each category\n",
        "grouped_data = sales.groupby('Product')['Profit'].sum()\n",
        "\n",
        "print(grouped_data)"
      ],
      "metadata": {
        "colab": {
          "base_uri": "https://localhost:8080/"
        },
        "id": "NBlUs34HtuJd",
        "outputId": "51bd44d9-b3a6-4345-8ca0-eb44757fa9ec"
      },
      "execution_count": 42,
      "outputs": [
        {
          "output_type": "stream",
          "name": "stdout",
          "text": [
            "Product\n",
            "Airpods     60\n",
            "Laptop     430\n",
            "Name: Profit, dtype: int64\n"
          ]
        },
        {
          "output_type": "stream",
          "name": "stderr",
          "text": [
            "<ipython-input-42-94748a7cc65d>:2: FutureWarning: The default of observed=False is deprecated and will be changed to True in a future version of pandas. Pass observed=False to retain current behavior or observed=True to adopt the future default and silence this warning.\n",
            "  grouped_data = sales.groupby('Product')['Profit'].sum()\n"
          ]
        }
      ]
    },
    {
      "cell_type": "code",
      "source": [
        "# Grouping by 'Category' and calculating multiple aggregations for 'Sales' and 'Cost'\n",
        "grouped_data = sales.groupby('Category').agg({\n",
        "    'Sales': ['sum', 'mean', 'max'],\n",
        "    'Cost': 'sum'\n",
        "})\n",
        "\n",
        "print(grouped_data)\n"
      ],
      "metadata": {
        "colab": {
          "base_uri": "https://localhost:8080/"
        },
        "id": "irihX4LDuMLS",
        "outputId": "e49901ac-dded-4ae1-fa13-8a7e7d9346b7"
      },
      "execution_count": 43,
      "outputs": [
        {
          "output_type": "stream",
          "name": "stdout",
          "text": [
            "                   Sales               Cost\n",
            "                     sum    mean  max   sum\n",
            "Category                                   \n",
            "Accessory Items      220  110.00  120   160\n",
            "Electronic Devices  3710  463.75  750  2450\n"
          ]
        },
        {
          "output_type": "stream",
          "name": "stderr",
          "text": [
            "<ipython-input-43-dd42d7bab4b8>:2: FutureWarning: The default of observed=False is deprecated and will be changed to True in a future version of pandas. Pass observed=False to retain current behavior or observed=True to adopt the future default and silence this warning.\n",
            "  grouped_data = sales.groupby('Category').agg({\n"
          ]
        }
      ]
    },
    {
      "cell_type": "code",
      "source": [
        "# Grouping by both 'Category' and 'Product' and calculating the total 'Sales'\n",
        "grouped_data = sales.groupby(['Category', 'Product'])['Sales'].sum()\n",
        "\n",
        "print(grouped_data)\n"
      ],
      "metadata": {
        "colab": {
          "base_uri": "https://localhost:8080/"
        },
        "id": "UPiHlS5puYgw",
        "outputId": "a15706e9-08f6-47ce-ec1c-27b097ccb63f"
      },
      "execution_count": 44,
      "outputs": [
        {
          "output_type": "stream",
          "name": "stdout",
          "text": [
            "Category            Product\n",
            "Accessory Items     Airpods     220\n",
            "                    Laptop        0\n",
            "Electronic Devices  Airpods       0\n",
            "                    Laptop     1450\n",
            "Name: Sales, dtype: int64\n"
          ]
        },
        {
          "output_type": "stream",
          "name": "stderr",
          "text": [
            "<ipython-input-44-b9c7d2240085>:2: FutureWarning: The default of observed=False is deprecated and will be changed to True in a future version of pandas. Pass observed=False to retain current behavior or observed=True to adopt the future default and silence this warning.\n",
            "  grouped_data = sales.groupby(['Category', 'Product'])['Sales'].sum()\n"
          ]
        }
      ]
    },
    {
      "cell_type": "code",
      "source": [
        "grouped_data = sales.groupby('Category').agg({'Sales': 'sum'}).reset_index()\n",
        "print(grouped_data)\n"
      ],
      "metadata": {
        "colab": {
          "base_uri": "https://localhost:8080/"
        },
        "id": "hchpS9wOugY7",
        "outputId": "95bbc64a-eaa8-4400-a090-20919b79b415"
      },
      "execution_count": 45,
      "outputs": [
        {
          "output_type": "stream",
          "name": "stdout",
          "text": [
            "             Category  Sales\n",
            "0     Accessory Items    220\n",
            "1  Electronic Devices   3710\n"
          ]
        },
        {
          "output_type": "stream",
          "name": "stderr",
          "text": [
            "<ipython-input-45-196de6926ad3>:1: FutureWarning: The default of observed=False is deprecated and will be changed to True in a future version of pandas. Pass observed=False to retain current behavior or observed=True to adopt the future default and silence this warning.\n",
            "  grouped_data = sales.groupby('Category').agg({'Sales': 'sum'}).reset_index()\n"
          ]
        }
      ]
    }
  ]
}