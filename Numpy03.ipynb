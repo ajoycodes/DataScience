{
 "cells": [
  {
   "cell_type": "code",
   "execution_count": 1,
   "metadata": {
    "colab": {
     "base_uri": "https://localhost:8080/"
    },
    "executionInfo": {
     "elapsed": 17,
     "status": "ok",
     "timestamp": 1744832949147,
     "user": {
      "displayName": "Ajoy Saha",
      "userId": "02441444082136520852"
     },
     "user_tz": -360
    },
    "id": "qnc1E-xAJQGc",
    "outputId": "35f94991-e289-46b6-d166-4ee8266ef7d2"
   },
   "outputs": [
    {
     "name": "stdout",
     "output_type": "stream",
     "text": [
      "2.0.2\n"
     ]
    }
   ],
   "source": [
    " #importing NumPy\n",
    "import numpy as np\n",
    "print(np.__version__)"
   ]
  },
  {
   "cell_type": "code",
   "execution_count": null,
   "metadata": {
    "colab": {
     "base_uri": "https://localhost:8080/"
    },
    "executionInfo": {
     "elapsed": 5,
     "status": "ok",
     "timestamp": 1744833541327,
     "user": {
      "displayName": "Ajoy Saha",
      "userId": "02441444082136520852"
     },
     "user_tz": -360
    },
    "id": "0Kq1ZB1pJdcY",
    "outputId": "a0180acd-9c47-4fc5-bfaa-d3b9ee7a3b55"
   },
   "outputs": [
    {
     "name": "stdout",
     "output_type": "stream",
     "text": [
      "[[[0. 0.]\n",
      "  [0. 0.]\n",
      "  [0. 0.]]\n",
      "\n",
      " [[0. 0.]\n",
      "  [0. 0.]\n",
      "  [0. 0.]]]\n"
     ]
    }
   ],
   "source": [
    "arr = np.zeros(\n",
    "    shape = (2,3,2)\n",
    ")\n"
   ]
  },
  {
   "cell_type": "code",
   "execution_count": 22,
   "metadata": {
    "colab": {
     "base_uri": "https://localhost:8080/"
    },
    "executionInfo": {
     "elapsed": 6,
     "status": "ok",
     "timestamp": 1744833933147,
     "user": {
      "displayName": "Ajoy Saha",
      "userId": "02441444082136520852"
     },
     "user_tz": -360
    },
    "id": "jdl_S6UyJyQ7",
    "outputId": "cfe0a22a-fdb1-498e-a3af-1b55bd6f00cb"
   },
   "outputs": [
    {
     "name": "stdout",
     "output_type": "stream",
     "text": [
      "21\n",
      "84\n",
      "[[ 6 15]\n",
      " [ 6 15]\n",
      " [ 6 15]\n",
      " [ 6 15]]\n"
     ]
    }
   ],
   "source": [
    "#First Dimension: axis = 0\n",
    "#Second Dimension: axis = 1\n",
    "#...\n",
    "#Nth Dimension: axix = N-1\n",
    "\n",
    "#Aggregation function: sum, min, max, meadian\n",
    "\n",
    "arr1 = np.array(\n",
    "    [\n",
    "    [\n",
    "            [1,2,3],\n",
    "            [4,5,6]\n",
    "      ],\n",
    "\n",
    "     [\n",
    "          [1,2,3],\n",
    "          [4,5,6]\n",
    "     ],\n",
    "\n",
    "     [    [1,2,3],\n",
    "          [4,5,6]\n",
    "      ],\n",
    "    [    [1,2,3],\n",
    "          [4,5,6]\n",
    "      ]\n",
    "      ]\n",
    ")\n",
    "\n",
    "print(np.sum(arr1[0]))\n",
    "print(np.sum(arr1))\n",
    "print(np.sum(arr1, axis= 2))"
   ]
  },
  {
   "cell_type": "code",
   "execution_count": 24,
   "metadata": {
    "colab": {
     "base_uri": "https://localhost:8080/"
    },
    "executionInfo": {
     "elapsed": 6,
     "status": "ok",
     "timestamp": 1744835979168,
     "user": {
      "displayName": "Ajoy Saha",
      "userId": "02441444082136520852"
     },
     "user_tz": -360
    },
    "id": "5RVvIw1dRWUH",
    "outputId": "3e1fcb27-ae32-4565-b26e-9cdd6ccfed6c"
   },
   "outputs": [
    {
     "name": "stdout",
     "output_type": "stream",
     "text": [
      "0.8423821544218497\n",
      "[[0.38172193 0.6511635  0.50497284 0.23911172 0.1055702 ]\n",
      " [0.31586047 0.50651435 0.20937455 0.88456088 0.71174316]]\n"
     ]
    }
   ],
   "source": [
    "#Numpy Random\n",
    "'''\n",
    "'''\n",
    "\n",
    "print(np.random.rand())\n",
    "print(np.random.rand(2,5))"
   ]
  },
  {
   "cell_type": "code",
   "execution_count": 28,
   "metadata": {
    "colab": {
     "base_uri": "https://localhost:8080/"
    },
    "executionInfo": {
     "elapsed": 14,
     "status": "ok",
     "timestamp": 1744836073597,
     "user": {
      "displayName": "Ajoy Saha",
      "userId": "02441444082136520852"
     },
     "user_tz": -360
    },
    "id": "uLFefX5_VJiN",
    "outputId": "bfdfec31-4b06-4759-b10a-f881b96ee1a5"
   },
   "outputs": [
    {
     "name": "stdout",
     "output_type": "stream",
     "text": [
      "72\n",
      "[[37 88 75 37 13]\n",
      " [27 30 17 49 23]]\n"
     ]
    }
   ],
   "source": [
    "print(np.random.randint(100))\n",
    "print(np.random.randint(100, size = (2,5)))"
   ]
  },
  {
   "cell_type": "code",
   "execution_count": 32,
   "metadata": {
    "colab": {
     "base_uri": "https://localhost:8080/"
    },
    "executionInfo": {
     "elapsed": 14,
     "status": "ok",
     "timestamp": 1744836156081,
     "user": {
      "displayName": "Ajoy Saha",
      "userId": "02441444082136520852"
     },
     "user_tz": -360
    },
    "id": "2PvcAPMLVdMt",
    "outputId": "734b87e6-3b2a-4f6d-ce1b-f20725bda42f"
   },
   "outputs": [
    {
     "name": "stdout",
     "output_type": "stream",
     "text": [
      "[29  3  1 22  4]\n"
     ]
    }
   ],
   "source": [
    "#random shuffle\n",
    "array = [1,4,3, 29,22]\n",
    "a = np.array(\n",
    "    array\n",
    ")\n",
    "np.random.shuffle(a)\n",
    "print(a)"
   ]
  },
  {
   "cell_type": "code",
   "execution_count": 37,
   "metadata": {
    "colab": {
     "base_uri": "https://localhost:8080/"
    },
    "executionInfo": {
     "elapsed": 17,
     "status": "ok",
     "timestamp": 1744837336908,
     "user": {
      "displayName": "Ajoy Saha",
      "userId": "02441444082136520852"
     },
     "user_tz": -360
    },
    "id": "6bPq8KaMVyMj",
    "outputId": "78c8443f-5aa1-4afd-f1a0-31b5841510fc"
   },
   "outputs": [
    {
     "name": "stdout",
     "output_type": "stream",
     "text": [
      "Dataset: \n",
      " [[50 60 20 88 47]\n",
      " [22 73  7 52 49]\n",
      " [11 81 72 36  8]\n",
      " [74  8 83 98 46]\n",
      " [88 20 80 27 66]]\n",
      "[[44 13 69 58 63]\n",
      " [66  5 97 59 46]\n",
      " [35 80 50 47 30]\n",
      " [28 87  0  3 42]\n",
      " [65 47 85 73 37]]\n"
     ]
    }
   ],
   "source": [
    "'''\n",
    "\n",
    "ML: Data -> Model -> Training\n",
    "Example = Dataset -> Training Dataset\n",
    "Test Dataset\n",
    "Validation Dataset\n",
    "\n",
    "\n",
    "'''\n",
    "\n",
    "dataSet = np.random.randint(100, size=(1000,5))\n",
    "print(\"Dataset: \\n\", dataSet[:5])\n",
    "np.random.shuffle(dataSet)\n",
    "print(dataSet[:5])\n"
   ]
  },
  {
   "cell_type": "code",
   "execution_count": 38,
   "metadata": {
    "colab": {
     "base_uri": "https://localhost:8080/"
    },
    "executionInfo": {
     "elapsed": 5,
     "status": "ok",
     "timestamp": 1744837351876,
     "user": {
      "displayName": "Ajoy Saha",
      "userId": "02441444082136520852"
     },
     "user_tz": -360
    },
    "id": "ZW7ewp_3Y_na",
    "outputId": "60dbc2f6-46a3-49b7-dcd5-ee0294017470"
   },
   "outputs": [
    {
     "name": "stdout",
     "output_type": "stream",
     "text": [
      "800 100 100\n"
     ]
    }
   ],
   "source": [
    "indx1 = int(.8*len(dataSet))\n",
    "indx2 = int(.9*len(dataSet))\n",
    "\n",
    "trainset, valset, testset = np.split(\n",
    "    dataSet,\n",
    "    [indx1, indx2],\n",
    ")\n",
    "\n",
    "print(len(trainset), len(valset), len(testset))"
   ]
  }
 ],
 "metadata": {
  "colab": {
   "authorship_tag": "ABX9TyMR1Bg+ThylY86TFrumZ1cr",
   "provenance": []
  },
  "kernelspec": {
   "display_name": "Python 3",
   "name": "python3"
  },
  "language_info": {
   "name": "python"
  }
 },
 "nbformat": 4,
 "nbformat_minor": 0
}
